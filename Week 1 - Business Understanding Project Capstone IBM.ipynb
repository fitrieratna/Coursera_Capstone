{
 "cells": [
  {
   "cell_type": "markdown",
   "metadata": {},
   "source": [
    "## IBM Data Science Project Capstone\n",
    "\n",
    "Name            : Fitrie Ratnasari\\\n",
    "Origin          : Indonesia\\\n",
    "Date            : October 1st, 2020\\\n",
    "Name of Project : Seattle Collision Severity Case "
   ]
  },
  {
   "cell_type": "markdown",
   "metadata": {},
   "source": [
    "### Business Understanding"
   ]
  },
  {
   "cell_type": "markdown",
   "metadata": {},
   "source": [
    "World Health Organization in early 2020 stated that every year the lives of approximately 1.35 million people are cut short as a result of a road traffic crash. Between 20 and 50 million more people suffer non-fatal injuries, with many incurring a disability as a result of their injury.\n",
    "\n",
    "Road traffic injuries cause considerable economic losses to individuals, their families, and to nations as a whole. These losses arise from the cost of treatment as well as lost productivity for those killed or disabled by their injuries, and for family members who need to take time off work or school to care for the injured. Road traffic crashes cost most countries 3% of their gross domestic product.\n",
    "\n",
    "In order to reduce traffic accident in Seatlle, Police Department is going to apply new approach of early-alert system that could prevent accidents. Such an approach takes into account people's vulnerability to serious injuries in road traffic crashes. The cornerstones of this approach by predicting severity collition type with condition given such as vehicle speed, weather, road condition, visibility, number of pedestrian and vehicle, that become major uncontrollable factors that can be prevented by revealing hidden patterns in the data and announcing early warning to the local government, police and drivers on the targeted roads.\n"
   ]
  }
 ],
 "metadata": {
  "kernelspec": {
   "display_name": "Python 3",
   "language": "python",
   "name": "python3"
  },
  "language_info": {
   "codemirror_mode": {
    "name": "ipython",
    "version": 3
   },
   "file_extension": ".py",
   "mimetype": "text/x-python",
   "name": "python",
   "nbconvert_exporter": "python",
   "pygments_lexer": "ipython3",
   "version": "3.7.6"
  }
 },
 "nbformat": 4,
 "nbformat_minor": 4
}
